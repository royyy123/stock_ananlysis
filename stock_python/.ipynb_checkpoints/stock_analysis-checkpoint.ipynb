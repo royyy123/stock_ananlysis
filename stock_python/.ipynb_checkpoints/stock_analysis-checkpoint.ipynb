{
 "cells": [
  {
   "cell_type": "code",
   "execution_count": 3,
   "metadata": {},
   "outputs": [],
   "source": [
    "import requests\n"
   ]
  },
  {
   "cell_type": "code",
   "execution_count": 4,
   "metadata": {},
   "outputs": [],
   "source": [
    "url='https://finnhub.io/dashboard'"
   ]
  },
  {
   "cell_type": "code",
   "execution_count": 61,
   "metadata": {},
   "outputs": [],
   "source": [
    "\n",
    "\n",
    "def eod_price():\n",
    "    import requests\n",
    "    r= requests.get('http://api.marketstack.com/v1/eod?access_key=85fc05650639080c5b30be648abfcd27&symbols=nio')\n",
    "    print(r.json())\n"
   ]
  },
  {
   "cell_type": "code",
   "execution_count": 35,
   "metadata": {},
   "outputs": [
    {
     "ename": "AttributeError",
     "evalue": "'str' object has no attribute 'json'",
     "output_type": "error",
     "traceback": [
      "\u001b[0;31m---------------------------------------------------------------------------\u001b[0m",
      "\u001b[0;31mAttributeError\u001b[0m                            Traceback (most recent call last)",
      "\u001b[0;32m<ipython-input-35-918ea2f8ba28>\u001b[0m in \u001b[0;36m<module>\u001b[0;34m\u001b[0m\n\u001b[0;32m----> 1\u001b[0;31m \u001b[0mprint\u001b[0m\u001b[0;34m(\u001b[0m\u001b[0mr\u001b[0m\u001b[0;34m.\u001b[0m\u001b[0mjson\u001b[0m\u001b[0;34m)\u001b[0m\u001b[0;34m\u001b[0m\u001b[0;34m\u001b[0m\u001b[0m\n\u001b[0m",
      "\u001b[0;31mAttributeError\u001b[0m: 'str' object has no attribute 'json'"
     ]
    }
   ],
   "source": [
    "print(r.json)"
   ]
  },
  {
   "cell_type": "code",
   "execution_count": 62,
   "metadata": {},
   "outputs": [
    {
     "name": "stdout",
     "output_type": "stream",
     "text": [
      "{'pagination': {'limit': 100, 'offset': 0, 'count': 100, 'total': 253}, 'data': [{'open': 21.71, 'high': 21.94, 'low': 20.6, 'close': 20.67, 'volume': 72080209.0, 'adj_high': 21.94, 'adj_low': 20.6, 'adj_close': 20.67, 'adj_open': 21.71, 'adj_volume': 72080209.0, 'symbol': 'NIO', 'exchange': 'XNYS', 'date': '2020-10-06T00:00:00+0000'}, {'open': 21.66, 'high': 21.92, 'low': 21.07, 'close': 21.59, 'volume': 60860112.0, 'adj_high': 21.92, 'adj_low': 21.07, 'adj_close': 21.59, 'adj_open': 21.66, 'adj_volume': 60860112.0, 'symbol': 'NIO', 'exchange': 'XNYS', 'date': '2020-10-05T00:00:00+0000'}, {'open': 20.83, 'high': 22.2, 'low': 20.8, 'close': 21.18, 'volume': 92713560.0, 'adj_high': 22.2, 'adj_low': 20.8, 'adj_close': 21.18, 'adj_open': 20.83, 'adj_volume': 92713560.0, 'symbol': 'NIO', 'exchange': 'XNYS', 'date': '2020-10-02T00:00:00+0000'}, {'open': 21.68, 'high': 21.96, 'low': 20.83, 'close': 21.76, 'volume': 79117101.0, 'adj_high': 21.96, 'adj_low': 20.83, 'adj_close': 21.76, 'adj_open': 21.68, 'adj_volume': 79117101.0, 'symbol': 'NIO', 'exchange': 'XNYS', 'date': '2020-10-01T00:00:00+0000'}, {'open': 21.72, 'high': 22.59, 'low': 20.76, 'close': 21.22, 'volume': 183530455.0, 'adj_high': 22.59, 'adj_low': 20.76, 'adj_close': 21.22, 'adj_open': 21.72, 'adj_volume': 183530455.0, 'symbol': 'NIO', 'exchange': 'XNYS', 'date': '2020-09-30T00:00:00+0000'}, {'open': 18.76, 'high': 21.12, 'low': 18.71, 'close': 20.85, 'volume': 164378538.0, 'adj_high': 21.12, 'adj_low': 18.71, 'adj_close': 20.85, 'adj_open': 18.76, 'adj_volume': 164378538.0, 'symbol': 'NIO', 'exchange': 'XNYS', 'date': '2020-09-29T00:00:00+0000'}, {'open': 18.88, 'high': 19.16, 'low': 18.43, 'close': 18.81, 'volume': 42786232.0, 'adj_high': 19.16, 'adj_low': 18.43, 'adj_close': 18.81, 'adj_open': 18.88, 'adj_volume': 42786232.0, 'symbol': 'NIO', 'exchange': 'XNYS', 'date': '2020-09-28T00:00:00+0000'}, {'open': 18.02, 'high': 18.62, 'low': 17.95, 'close': 18.32, 'volume': 44122149.0, 'adj_high': 18.62, 'adj_low': 17.95, 'adj_close': 18.32, 'adj_open': 18.02, 'adj_volume': 44122149.0, 'symbol': 'NIO', 'exchange': 'XNYS', 'date': '2020-09-25T00:00:00+0000'}, {'open': 17.32, 'high': 18.39, 'low': 16.75, 'close': 17.85, 'volume': 71069510.0, 'adj_high': 18.39, 'adj_low': 16.75, 'adj_close': 17.85, 'adj_open': 17.32, 'adj_volume': 71069510.0, 'symbol': 'NIO', 'exchange': 'XNYS', 'date': '2020-09-24T00:00:00+0000'}, {'open': 19.22, 'high': 19.36, 'low': 17.8, 'close': 17.96, 'volume': 70568089.0, 'adj_high': 19.36, 'adj_low': 17.8, 'adj_close': 17.96, 'adj_open': 19.22, 'adj_volume': 70568089.0, 'symbol': 'NIO', 'exchange': 'XNYS', 'date': '2020-09-23T00:00:00+0000'}, {'open': 18.48, 'high': 19.45, 'low': 18.37, 'close': 19.23, 'volume': 61061116.0, 'adj_high': 19.45, 'adj_low': 18.37, 'adj_close': 19.23, 'adj_open': 18.48, 'adj_volume': 61061116.0, 'symbol': 'NIO', 'exchange': 'XNYS', 'date': '2020-09-22T00:00:00+0000'}, {'open': 19.05, 'high': 19.265, 'low': 17.66, 'close': 18.81, 'volume': 75180793.0, 'adj_high': 19.265, 'adj_low': 17.66, 'adj_close': 18.81, 'adj_open': 19.05, 'adj_volume': 75180793.0, 'symbol': 'NIO', 'exchange': 'XNYS', 'date': '2020-09-21T00:00:00+0000'}, {'open': 19.72, 'high': 19.88, 'low': 18.94, 'close': 19.41, 'volume': 54330728.0, 'adj_high': 19.88, 'adj_low': 18.94, 'adj_close': 19.41, 'adj_open': 19.72, 'adj_volume': 54330728.0, 'symbol': 'NIO', 'exchange': 'XNYS', 'date': '2020-09-18T00:00:00+0000'}, {'open': 18.26, 'high': 19.33, 'low': 18.08, 'close': 19.3, 'volume': 54665793.0, 'adj_high': 19.33, 'adj_low': 18.08, 'adj_close': 19.3, 'adj_open': 18.26, 'adj_volume': 54665793.0, 'symbol': 'NIO', 'exchange': 'XNYS', 'date': '2020-09-17T00:00:00+0000'}, {'open': 19.27, 'high': 19.54, 'low': 18.52, 'close': 19.01, 'volume': 57255034.0, 'adj_high': 19.54, 'adj_low': 18.52, 'adj_close': 19.01, 'adj_open': 19.27, 'adj_volume': 57255034.0, 'symbol': 'NIO', 'exchange': 'XNYS', 'date': '2020-09-16T00:00:00+0000'}, {'open': 19.1, 'high': 20.25, 'low': 18.88, 'close': 19.19, 'volume': 110876501.0, 'adj_high': 20.25, 'adj_low': 18.88, 'adj_close': 19.19, 'adj_open': 19.1, 'adj_volume': 110876501.0, 'symbol': 'NIO', 'exchange': 'XNYS', 'date': '2020-09-15T00:00:00+0000'}, {'open': 18.18, 'high': 18.78, 'low': 17.9, 'close': 18.73, 'volume': 67430272.0, 'adj_high': 18.78, 'adj_low': 17.9, 'adj_close': 18.73, 'adj_open': 18.18, 'adj_volume': 67430272.0, 'symbol': 'NIO', 'exchange': 'XNYS', 'date': '2020-09-14T00:00:00+0000'}, {'open': 18.0, 'high': 18.1, 'low': 17.45, 'close': 17.97, 'volume': 54934619.0, 'adj_high': 18.1, 'adj_low': 17.45, 'adj_close': 17.97, 'adj_open': 18.0, 'adj_volume': 54934619.0, 'symbol': 'NIO', 'exchange': 'XNYS', 'date': '2020-09-11T00:00:00+0000'}, {'open': 18.49, 'high': 18.72, 'low': 17.49, 'close': 17.74, 'volume': 79679834.0, 'adj_high': 18.72, 'adj_low': 17.49, 'adj_close': 17.74, 'adj_open': 18.49, 'adj_volume': 79679834.0, 'symbol': 'NIO', 'exchange': 'XNYS', 'date': '2020-09-10T00:00:00+0000'}, {'open': 17.9, 'high': 18.63, 'low': 17.7, 'close': 18.09, 'volume': 90988423.0, 'adj_high': 18.63, 'adj_low': 17.7, 'adj_close': 18.09, 'adj_open': 17.9, 'adj_volume': 90988423.0, 'symbol': 'NIO', 'exchange': 'XNYS', 'date': '2020-09-09T00:00:00+0000'}, {'open': 17.17, 'high': 17.86, 'low': 16.51, 'close': 17.03, 'volume': 87793683.0, 'adj_high': 17.86, 'adj_low': 16.51, 'adj_close': 17.03, 'adj_open': 17.17, 'adj_volume': 87793683.0, 'symbol': 'NIO', 'exchange': 'XNYS', 'date': '2020-09-08T00:00:00+0000'}, {'open': 18.54, 'high': 19.18, 'low': 15.61, 'close': 17.98, 'volume': 162436684.0, 'adj_high': 19.18, 'adj_low': 15.61, 'adj_close': 17.98, 'adj_open': 18.54, 'adj_volume': 162436684.0, 'symbol': 'NIO', 'exchange': 'XNYS', 'date': '2020-09-04T00:00:00+0000'}, {'open': 19.09, 'high': 19.84, 'low': 18.3526, 'close': 18.7, 'volume': 124965377.0, 'adj_high': 19.84, 'adj_low': 18.3526, 'adj_close': 18.7, 'adj_open': 19.09, 'adj_volume': 124965377.0, 'symbol': 'NIO', 'exchange': 'XNYS', 'date': '2020-09-03T00:00:00+0000'}, {'open': 20.92, 'high': 21.05, 'low': 18.5, 'close': 19.9, 'volume': 152716101.0, 'adj_high': 21.05, 'adj_low': 18.5, 'adj_close': 19.9, 'adj_open': 20.92, 'adj_volume': 152716101.0, 'symbol': 'NIO', 'exchange': 'XNYS', 'date': '2020-09-02T00:00:00+0000'}, {'open': 19.45, 'high': 20.38, 'low': 18.75, 'close': 20.12, 'volume': 136709869.0, 'adj_high': 20.38, 'adj_low': 18.75, 'adj_close': 20.12, 'adj_open': 19.45, 'adj_volume': 136709869.0, 'symbol': 'NIO', 'exchange': 'XNYS', 'date': '2020-09-01T00:00:00+0000'}, {'open': 17.19, 'high': 19.83, 'low': 16.82, 'close': 19.03, 'volume': 224956358.0, 'adj_high': 19.83, 'adj_low': 16.82, 'adj_close': 19.03, 'adj_open': 17.19, 'adj_volume': 224956358.0, 'symbol': 'NIO', 'exchange': 'XNYS', 'date': '2020-08-31T00:00:00+0000'}, {'open': 18.87, 'high': 19.44, 'low': 18.11, 'close': 18.5, 'volume': 153788913.0, 'adj_high': 19.44, 'adj_low': 18.11, 'adj_close': 18.5, 'adj_open': 18.87, 'adj_volume': 153788913.0, 'symbol': 'NIO', 'exchange': 'XNYS', 'date': '2020-08-28T00:00:00+0000'}, {'open': 19.99, 'high': 20.47, 'low': 18.76, 'close': 19.88, 'volume': 191249905.0, 'adj_high': 20.47, 'adj_low': 18.76, 'adj_close': 19.88, 'adj_open': 19.99, 'adj_volume': 191249905.0, 'symbol': 'NIO', 'exchange': 'XNYS', 'date': '2020-08-27T00:00:00+0000'}, {'open': 19.01, 'high': 20.97, 'low': 18.56, 'close': 20.44, 'volume': 358538184.0, 'adj_high': 20.97, 'adj_low': 18.56, 'adj_close': 20.44, 'adj_open': 19.01, 'adj_volume': 358538184.0, 'symbol': 'NIO', 'exchange': 'XNYS', 'date': '2020-08-26T00:00:00+0000'}, {'open': 15.08, 'high': 17.87, 'low': 15.06, 'close': 17.84, 'volume': 291870158.0, 'adj_high': 17.87, 'adj_low': 15.06, 'adj_close': 17.84, 'adj_open': 15.08, 'adj_volume': 291870158.0, 'symbol': 'NIO', 'exchange': 'XNYS', 'date': '2020-08-25T00:00:00+0000'}, {'open': 14.63, 'high': 14.98, 'low': 14.31, 'close': 14.97, 'volume': 96978504.0, 'adj_high': 14.98, 'adj_low': 14.31, 'adj_close': 14.97, 'adj_open': 14.63, 'adj_volume': 96978504.0, 'symbol': 'NIO', 'exchange': 'XNYS', 'date': '2020-08-24T00:00:00+0000'}, {'open': 13.64, 'high': 14.58, 'low': 13.62, 'close': 14.12, 'volume': 69534166.0, 'adj_high': 14.58, 'adj_low': 13.62, 'adj_close': 14.12, 'adj_open': 13.64, 'adj_volume': 69534166.0, 'symbol': 'NIO', 'exchange': 'XNYS', 'date': '2020-08-21T00:00:00+0000'}, {'open': 13.85, 'high': 14.05, 'low': 13.53, 'close': 13.78, 'volume': 49767256.0, 'adj_high': 14.05, 'adj_low': 13.53, 'adj_close': 13.78, 'adj_open': 13.85, 'adj_volume': 49767256.0, 'symbol': 'NIO', 'exchange': 'XNYS', 'date': '2020-08-20T00:00:00+0000'}, {'open': 14.29, 'high': 14.41, 'low': 13.85, 'close': 14.06, 'volume': 41613026.0, 'adj_high': 14.41, 'adj_low': 13.85, 'adj_close': 14.06, 'adj_open': 14.29, 'adj_volume': 41613026.0, 'symbol': 'NIO', 'exchange': 'XNYS', 'date': '2020-08-19T00:00:00+0000'}, {'open': 14.23, 'high': 14.69, 'low': 13.871, 'close': 14.3, 'volume': 69517823.0, 'adj_high': 14.69, 'adj_low': 13.871, 'adj_close': 14.3, 'adj_open': 14.23, 'adj_volume': 69517823.0, 'symbol': 'NIO', 'exchange': 'XNYS', 'date': '2020-08-18T00:00:00+0000'}, {'open': 13.07, 'high': 14.05, 'low': 13.06, 'close': 14.05, 'volume': 77497916.0, 'adj_high': 14.05, 'adj_low': 13.06, 'adj_close': 14.05, 'adj_open': 13.07, 'adj_volume': 77497916.0, 'symbol': 'NIO', 'exchange': 'XNYS', 'date': '2020-08-17T00:00:00+0000'}, {'open': 13.18, 'high': 13.18, 'low': 12.54, 'close': 13.1, 'volume': 61154126.0, 'adj_high': 13.18, 'adj_low': 12.54, 'adj_close': 13.1, 'adj_open': 13.18, 'adj_volume': 61154126.0, 'symbol': 'NIO', 'exchange': 'XNYS', 'date': '2020-08-14T00:00:00+0000'}, {'open': 13.45, 'high': 13.64, 'low': 13.17, 'close': 13.36, 'volume': 49692671.0, 'adj_high': 13.64, 'adj_low': 13.17, 'adj_close': 13.36, 'adj_open': 13.45, 'adj_volume': 49692671.0, 'symbol': 'NIO', 'exchange': 'XNYS', 'date': '2020-08-13T00:00:00+0000'}, {'open': 13.37, 'high': 13.45, 'low': 12.67, 'close': 13.36, 'volume': 76513625.0, 'adj_high': 13.45, 'adj_low': 12.67, 'adj_close': 13.36, 'adj_open': 13.37, 'adj_volume': 76513625.0, 'symbol': 'NIO', 'exchange': 'XNYS', 'date': '2020-08-12T00:00:00+0000'}, {'open': 15.3, 'high': 15.45, 'low': 12.94, 'close': 12.99, 'volume': 179383314.0, 'adj_high': 15.45, 'adj_low': 12.94, 'adj_close': 12.99, 'adj_open': 15.3, 'adj_volume': 179383314.0, 'symbol': 'NIO', 'exchange': 'XNYS', 'date': '2020-08-11T00:00:00+0000'}, {'open': 13.94, 'high': 14.42, 'low': 13.68, 'close': 14.21, 'volume': 84267291.0, 'adj_high': 14.42, 'adj_low': 13.68, 'adj_close': 14.21, 'adj_open': 13.94, 'adj_volume': 84267291.0, 'symbol': 'NIO', 'exchange': 'XNYS', 'date': '2020-08-10T00:00:00+0000'}, {'open': 13.54, 'high': 13.73, 'low': 13.2, 'close': 13.42, 'volume': 57745964.0, 'adj_high': 13.73, 'adj_low': 13.2, 'adj_close': 13.42, 'adj_open': 13.54, 'adj_volume': 57745964.0, 'symbol': 'NIO', 'exchange': 'XNYS', 'date': '2020-08-07T00:00:00+0000'}, {'open': 14.1, 'high': 14.31, 'low': 13.52, 'close': 13.84, 'volume': 49787709.0, 'adj_high': 14.31, 'adj_low': 13.52, 'adj_close': 13.84, 'adj_open': 14.1, 'adj_volume': 49787709.0, 'symbol': 'NIO', 'exchange': 'XNYS', 'date': '2020-08-06T00:00:00+0000'}, {'open': 13.41, 'high': 14.075, 'low': 13.3739, 'close': 13.92, 'volume': 60375033.0, 'adj_high': 14.075, 'adj_low': 13.3739, 'adj_close': 13.92, 'adj_open': 13.41, 'adj_volume': 60375033.0, 'symbol': 'NIO', 'exchange': 'XNYS', 'date': '2020-08-05T00:00:00+0000'}, {'open': 14.46, 'high': 14.53, 'low': 13.22, 'close': 13.64, 'volume': 125731370.0, 'adj_high': 14.53, 'adj_low': 13.22, 'adj_close': 13.64, 'adj_open': 14.46, 'adj_volume': 125731370.0, 'symbol': 'NIO', 'exchange': 'XNYS', 'date': '2020-08-04T00:00:00+0000'}, {'open': 12.53, 'high': 13.67, 'low': 12.46, 'close': 13.6, 'volume': 122925296.0, 'adj_high': 13.67, 'adj_low': 12.46, 'adj_close': 13.6, 'adj_open': 12.53, 'adj_volume': 122925296.0, 'symbol': 'NIO', 'exchange': 'XNYS', 'date': '2020-08-03T00:00:00+0000'}, {'open': 12.41, 'high': 12.59, 'low': 11.73, 'close': 11.94, 'volume': 61813807.0, 'adj_high': 12.59, 'adj_low': 11.73, 'adj_close': 11.94, 'adj_open': 12.41, 'adj_volume': 61813807.0, 'symbol': 'NIO', 'exchange': 'XNYS', 'date': '2020-07-31T00:00:00+0000'}, {'open': 12.62, 'high': 12.95, 'low': 12.07, 'close': 12.2, 'volume': 64952913.0, 'adj_high': 12.95, 'adj_low': 12.07, 'adj_close': 12.2, 'adj_open': 12.62, 'adj_volume': 64952913.0, 'symbol': 'NIO', 'exchange': 'XNYS', 'date': '2020-07-30T00:00:00+0000'}, {'open': 12.65, 'high': 13.0, 'low': 12.431, 'close': 12.7, 'volume': 69552555.0, 'adj_high': 13.0, 'adj_low': 12.431, 'adj_close': 12.7, 'adj_open': 12.65, 'adj_volume': 69552555.0, 'symbol': 'NIO', 'exchange': 'XNYS', 'date': '2020-07-29T00:00:00+0000'}, {'open': 11.48, 'high': 12.64, 'low': 11.38, 'close': 12.27, 'volume': 90075812.0, 'adj_high': 12.64, 'adj_low': 11.38, 'adj_close': 12.27, 'adj_open': 11.48, 'adj_volume': 90075812.0, 'symbol': 'NIO', 'exchange': 'XNYS', 'date': '2020-07-28T00:00:00+0000'}, {'open': 12.03, 'high': 12.09, 'low': 11.27, 'close': 11.69, 'volume': 64068520.0, 'adj_high': 12.09, 'adj_low': 11.27, 'adj_close': 11.69, 'adj_open': 12.03, 'adj_volume': 64068520.0, 'symbol': 'NIO', 'exchange': 'XNYS', 'date': '2020-07-27T00:00:00+0000'}, {'open': 11.38, 'high': 11.9, 'low': 10.91, 'close': 11.82, 'volume': 93425298.0, 'adj_high': 11.9, 'adj_low': 10.91, 'adj_close': 11.82, 'adj_open': 11.38, 'adj_volume': 93425298.0, 'symbol': 'NIO', 'exchange': 'XNYS', 'date': '2020-07-24T00:00:00+0000'}, {'open': 12.59, 'high': 12.63, 'low': 11.85, 'close': 12.15, 'volume': 95206301.0, 'adj_high': 12.63, 'adj_low': 11.85, 'adj_close': 12.15, 'adj_open': 12.59, 'adj_volume': 95206301.0, 'symbol': 'NIO', 'exchange': 'XNYS', 'date': '2020-07-23T00:00:00+0000'}, {'open': 12.38, 'high': 12.83, 'low': 11.81, 'close': 12.38, 'volume': 111204100.0, 'adj_high': 12.83, 'adj_low': 11.81, 'adj_close': 12.38, 'adj_open': 12.38, 'adj_volume': 111204100.0, 'symbol': 'NIO', 'exchange': 'XNYS', 'date': '2020-07-22T00:00:00+0000'}, {'open': 13.45, 'high': 13.58, 'low': 12.62, 'close': 12.88, 'volume': 128042800.0, 'adj_high': 13.58, 'adj_low': 12.62, 'adj_close': 12.88, 'adj_open': 13.45, 'adj_volume': 128042800.0, 'symbol': 'NIO', 'exchange': 'XNYS', 'date': '2020-07-21T00:00:00+0000'}, {'open': 11.42, 'high': 12.84, 'low': 11.38, 'close': 12.82, 'volume': 154596600.0, 'adj_high': 12.84, 'adj_low': 11.38, 'adj_close': 12.82, 'adj_open': 11.42, 'adj_volume': 154596600.0, 'symbol': 'NIO', 'exchange': 'XNYS', 'date': '2020-07-20T00:00:00+0000'}, {'open': 11.86, 'high': 12.07, 'low': 10.46, 'close': 11.09, 'volume': 289514200.0, 'adj_high': 12.07, 'adj_low': 10.46, 'adj_close': 11.09, 'adj_open': 11.86, 'adj_volume': 289514200.0, 'symbol': 'NIO', 'exchange': 'XNYS', 'date': '2020-07-17T00:00:00+0000'}, {'open': 12.46, 'high': 13.16, 'low': 12.45, 'close': 12.94, 'volume': 134084800.0, 'adj_high': 13.16, 'adj_low': 12.45, 'adj_close': 12.94, 'adj_open': 12.46, 'adj_volume': 134084800.0, 'symbol': 'NIO', 'exchange': 'XNYS', 'date': '2020-07-16T00:00:00+0000'}, {'open': 13.82, 'high': 13.95, 'low': 12.85, 'close': 13.52, 'volume': 114166800.0, 'adj_high': 13.95, 'adj_low': 12.85, 'adj_close': 13.52, 'adj_open': 13.82, 'adj_volume': 114166800.0, 'symbol': 'NIO', 'exchange': 'XNYS', 'date': '2020-07-15T00:00:00+0000'}, {'open': 13.25, 'high': 14.13, 'low': 12.42, 'close': 14.09, 'volume': 195253600.0, 'adj_high': 14.13, 'adj_low': 12.42, 'adj_close': 14.09, 'adj_open': 13.25, 'adj_volume': 195253600.0, 'symbol': 'NIO', 'exchange': 'XNYS', 'date': '2020-07-14T00:00:00+0000'}, {'open': 15.26, 'high': 16.44, 'low': 13.61, 'close': 13.84, 'volume': 310058200.0, 'adj_high': 16.44, 'adj_low': 13.61, 'adj_close': 13.84, 'adj_open': 15.26, 'adj_volume': 310058200.0, 'symbol': 'NIO', 'exchange': 'XNYS', 'date': '2020-07-13T00:00:00+0000'}, {'open': 15.61, 'high': 15.73, 'low': 14.2, 'close': 14.98, 'volume': 317735400.0, 'adj_high': 15.73, 'adj_low': 14.2, 'adj_close': 14.98, 'adj_open': 15.61, 'adj_volume': 317735400.0, 'symbol': 'NIO', 'exchange': 'XNYS', 'date': '2020-07-10T00:00:00+0000'}, {'open': 13.5, 'high': 14.63, 'low': 13.07, 'close': 14.57, 'volume': 314527300.0, 'adj_high': 14.63, 'adj_low': 13.07, 'adj_close': 14.57, 'adj_open': 13.5, 'adj_volume': 314527300.0, 'symbol': 'NIO', 'exchange': 'XNYS', 'date': '2020-07-09T00:00:00+0000'}, {'open': 14.1, 'high': 15.28, 'low': 12.0, 'close': 12.88, 'volume': 568960800.0, 'adj_high': 15.28, 'adj_low': 12.0, 'adj_close': 12.88, 'adj_open': 14.1, 'adj_volume': 568960800.0, 'symbol': 'NIO', 'exchange': 'XNYS', 'date': '2020-07-08T00:00:00+0000'}, {'open': 11.26, 'high': 13.77, 'low': 10.7, 'close': 13.22, 'volume': 442681000.0, 'adj_high': 13.77, 'adj_low': 10.7, 'adj_close': 13.22, 'adj_open': 11.26, 'adj_volume': 442681000.0, 'symbol': 'NIO', 'exchange': 'XNYS', 'date': '2020-07-07T00:00:00+0000'}, {'open': 11.06, 'high': 12.3, 'low': 10.93, 'close': 11.51, 'volume': 325679000.0, 'adj_high': 12.3, 'adj_low': 10.93, 'adj_close': 11.51, 'adj_open': 11.06, 'adj_volume': 325679000.0, 'symbol': 'NIO', 'exchange': 'XNYS', 'date': '2020-07-06T00:00:00+0000'}, {'open': 9.05, 'high': 9.4, 'low': 8.7, 'close': 9.38, 'volume': 219628681.0, 'adj_high': 9.4, 'adj_low': 8.7, 'adj_close': 9.38, 'adj_open': 9.05, 'adj_volume': 219628681.0, 'symbol': 'NIO', 'exchange': 'XNYS', 'date': '2020-07-02T00:00:00+0000'}, {'open': 7.79, 'high': 7.99, 'low': 7.67, 'close': 7.91, 'volume': 64427035.0, 'adj_high': 7.99, 'adj_low': 7.67, 'adj_close': 7.91, 'adj_open': 7.79, 'adj_volume': 64427035.0, 'symbol': 'NIO', 'exchange': 'XNYS', 'date': '2020-07-01T00:00:00+0000'}, {'open': 7.21, 'high': 7.75, 'low': 7.12, 'close': 7.72, 'volume': 84229475.0, 'adj_high': 7.75, 'adj_low': 7.12, 'adj_close': 7.72, 'adj_open': 7.21, 'adj_volume': 84229475.0, 'symbol': 'NIO', 'exchange': 'XNYS', 'date': '2020-06-30T00:00:00+0000'}, {'open': 6.98, 'high': 7.25, 'low': 6.71, 'close': 7.23, 'volume': 45876107.0, 'adj_high': 7.25, 'adj_low': 6.71, 'adj_close': 7.23, 'adj_open': 6.98, 'adj_volume': 45876107.0, 'symbol': 'NIO', 'exchange': 'XNYS', 'date': '2020-06-29T00:00:00+0000'}, {'open': 7.03, 'high': 7.18, 'low': 6.8, 'close': 6.9, 'volume': 33453587.0, 'adj_high': 7.18, 'adj_low': 6.8, 'adj_close': 6.9, 'adj_open': 7.03, 'adj_volume': 33453587.0, 'symbol': 'NIO', 'exchange': 'XNYS', 'date': '2020-06-26T00:00:00+0000'}, {'open': 6.66, 'high': 7.145, 'low': 6.6, 'close': 7.08, 'volume': 46442109.0, 'adj_high': 7.145, 'adj_low': 6.6, 'adj_close': 7.08, 'adj_open': 6.66, 'adj_volume': 46442109.0, 'symbol': 'NIO', 'exchange': 'XNYS', 'date': '2020-06-25T00:00:00+0000'}, {'open': 6.93, 'high': 7.08, 'low': 6.5, 'close': 6.86, 'volume': 103575859.0, 'adj_high': 7.08, 'adj_low': 6.5, 'adj_close': 6.86, 'adj_open': 6.93, 'adj_volume': 103575859.0, 'symbol': 'NIO', 'exchange': 'XNYS', 'date': '2020-06-24T00:00:00+0000'}, {'open': 7.55, 'high': 7.685, 'low': 7.19, 'close': 7.23, 'volume': 79627842.0, 'adj_high': 7.685, 'adj_low': 7.19, 'adj_close': 7.23, 'adj_open': 7.55, 'adj_volume': 79627842.0, 'symbol': 'NIO', 'exchange': 'XNYS', 'date': '2020-06-23T00:00:00+0000'}, {'open': 7.86, 'high': 7.9, 'low': 7.38, 'close': 7.43, 'volume': 112647898.0, 'adj_high': 7.9, 'adj_low': 7.38, 'adj_close': 7.43, 'adj_open': 7.86, 'adj_volume': 112647898.0, 'symbol': 'NIO', 'exchange': 'XNYS', 'date': '2020-06-22T00:00:00+0000'}, {'open': 7.36, 'high': 7.63, 'low': 7.23, 'close': 7.34, 'volume': 84037079.0, 'adj_high': 7.63, 'adj_low': 7.23, 'adj_close': 7.34, 'adj_open': 7.36, 'adj_volume': 84037079.0, 'symbol': 'NIO', 'exchange': 'XNYS', 'date': '2020-06-19T00:00:00+0000'}, {'open': 6.8, 'high': 7.36, 'low': 6.78, 'close': 7.18, 'volume': 78503216.0, 'adj_high': 7.36, 'adj_low': 6.78, 'adj_close': 7.18, 'adj_open': 6.8, 'adj_volume': 78503216.0, 'symbol': 'NIO', 'exchange': 'XNYS', 'date': '2020-06-18T00:00:00+0000'}, {'open': 6.93, 'high': 6.98, 'low': 6.58, 'close': 6.84, 'volume': 58838533.0, 'adj_high': 6.98, 'adj_low': 6.58, 'adj_close': 6.84, 'adj_open': 6.93, 'adj_volume': 58838533.0, 'symbol': 'NIO', 'exchange': 'XNYS', 'date': '2020-06-17T00:00:00+0000'}, {'open': 7.43, 'high': 7.44, 'low': 6.53, 'close': 6.99, 'volume': 130245602.0, 'adj_high': 7.44, 'adj_low': 6.53, 'adj_close': 6.99, 'adj_open': 7.43, 'adj_volume': 130245602.0, 'symbol': 'NIO', 'exchange': 'XNYS', 'date': '2020-06-16T00:00:00+0000'}, {'open': 5.97, 'high': 6.99, 'low': 5.92, 'close': 6.83, 'volume': 113172449.0, 'adj_high': 6.99, 'adj_low': 5.92, 'adj_close': 6.83, 'adj_open': 5.97, 'adj_volume': 113172449.0, 'symbol': 'NIO', 'exchange': 'XNYS', 'date': '2020-06-15T00:00:00+0000'}, {'open': 6.2, 'high': 6.32, 'low': 5.92, 'close': 6.1, 'volume': 59687107.0, 'adj_high': 6.32, 'adj_low': 5.92, 'adj_close': 6.1, 'adj_open': 6.2, 'adj_volume': 59687107.0, 'symbol': 'NIO', 'exchange': 'XNYS', 'date': '2020-06-12T00:00:00+0000'}, {'open': 5.79, 'high': 6.09, 'low': 5.66, 'close': 5.91, 'volume': 126114178.0, 'adj_high': 6.09, 'adj_low': 5.66, 'adj_close': 5.91, 'adj_open': 5.79, 'adj_volume': 126114178.0, 'symbol': 'NIO', 'exchange': 'XNYS', 'date': '2020-06-11T00:00:00+0000'}, {'open': 6.72, 'high': 6.95, 'low': 6.16, 'close': 6.3, 'volume': 99921419.0, 'adj_high': 6.95, 'adj_low': 6.16, 'adj_close': 6.3, 'adj_open': 6.72, 'adj_volume': 99921419.0, 'symbol': 'NIO', 'exchange': 'XNYS', 'date': '2020-06-10T00:00:00+0000'}, {'open': 5.84, 'high': 6.83, 'low': 5.76, 'close': 6.68, 'volume': 135060628.0, 'adj_high': 6.83, 'adj_low': 5.76, 'adj_close': 6.68, 'adj_open': 5.84, 'adj_volume': 135060628.0, 'symbol': 'NIO', 'exchange': 'XNYS', 'date': '2020-06-09T00:00:00+0000'}, {'open': 5.81, 'high': 6.08, 'low': 5.68, 'close': 5.97, 'volume': 85523884.0, 'adj_high': 6.08, 'adj_low': 5.68, 'adj_close': 5.97, 'adj_open': 5.81, 'adj_volume': 85523884.0, 'symbol': 'NIO', 'exchange': 'XNYS', 'date': '2020-06-08T00:00:00+0000'}, {'open': 6.03, 'high': 6.075, 'low': 5.52, 'close': 5.59, 'volume': 90517235.0, 'adj_high': 6.075, 'adj_low': 5.52, 'adj_close': 5.59, 'adj_open': 6.03, 'adj_volume': 90517235.0, 'symbol': 'NIO', 'exchange': 'XNYS', 'date': '2020-06-05T00:00:00+0000'}, {'open': 6.01, 'high': 6.2, 'low': 5.61, 'close': 5.97, 'volume': 172617852.0, 'adj_high': 6.2, 'adj_low': 5.61, 'adj_close': 5.97, 'adj_open': 6.01, 'adj_volume': 172617852.0, 'symbol': 'NIO', 'exchange': 'XNYS', 'date': '2020-06-04T00:00:00+0000'}, {'open': 5.0, 'high': 5.7, 'low': 4.98, 'close': 5.6, 'volume': 198303797.0, 'adj_high': 5.7, 'adj_low': 4.98, 'adj_close': 5.6, 'adj_open': 5.0, 'adj_volume': 198303797.0, 'symbol': 'NIO', 'exchange': 'XNYS', 'date': '2020-06-03T00:00:00+0000'}, {'open': 4.36, 'high': 4.73, 'low': 4.35, 'close': 4.7, 'volume': 81717678.0, 'adj_high': 4.73, 'adj_low': 4.35, 'adj_close': 4.7, 'adj_open': 4.36, 'adj_volume': 81717678.0, 'symbol': 'NIO', 'exchange': 'XNYS', 'date': '2020-06-02T00:00:00+0000'}, {'open': 4.0, 'high': 4.33, 'low': 3.96, 'close': 4.26, 'volume': 68951059.0, 'adj_high': 4.33, 'adj_low': 3.96, 'adj_close': 4.26, 'adj_open': 4.0, 'adj_volume': 68951059.0, 'symbol': 'NIO', 'exchange': 'XNYS', 'date': '2020-06-01T00:00:00+0000'}, {'open': 3.82, 'high': 4.0, 'low': 3.73, 'close': 3.98, 'volume': 50301733.0, 'adj_high': 4.0, 'adj_low': 3.73, 'adj_close': 3.98, 'adj_open': 3.82, 'adj_volume': 50301733.0, 'symbol': 'NIO', 'exchange': 'XNYS', 'date': '2020-05-29T00:00:00+0000'}, {'open': 3.98, 'high': 4.12, 'low': 3.75, 'close': 3.83, 'volume': 62756668.0, 'adj_high': 4.12, 'adj_low': 3.75, 'adj_close': 3.83, 'adj_open': 3.98, 'adj_volume': 62756668.0, 'symbol': 'NIO', 'exchange': 'XNYS', 'date': '2020-05-28T00:00:00+0000'}, {'open': 4.01, 'high': 4.2, 'low': 3.9, 'close': 4.17, 'volume': 70224324.0, 'adj_high': 4.2, 'adj_low': 3.9, 'adj_close': 4.17, 'adj_open': 4.01, 'adj_volume': 70224324.0, 'symbol': 'NIO', 'exchange': 'XNYS', 'date': '2020-05-27T00:00:00+0000'}, {'open': 3.42, 'high': 3.83, 'low': 3.4, 'close': 3.82, 'volume': 59622624.0, 'adj_high': 3.83, 'adj_low': 3.4, 'adj_close': 3.82, 'adj_open': 3.42, 'adj_volume': 59622624.0, 'symbol': 'NIO', 'exchange': 'XNYS', 'date': '2020-05-26T00:00:00+0000'}, {'open': 3.33, 'high': 3.34, 'low': 3.18, 'close': 3.27, 'volume': 22798211.0, 'adj_high': 3.34, 'adj_low': 3.18, 'adj_close': 3.27, 'adj_open': 3.33, 'adj_volume': 22798211.0, 'symbol': 'NIO', 'exchange': 'XNYS', 'date': '2020-05-22T00:00:00+0000'}, {'open': 3.4, 'high': 3.44, 'low': 3.2325, 'close': 3.33, 'volume': 41491886.0, 'adj_high': 3.44, 'adj_low': 3.2325, 'adj_close': 3.33, 'adj_open': 3.4, 'adj_volume': 41491886.0, 'symbol': 'NIO', 'exchange': 'XNYS', 'date': '2020-05-21T00:00:00+0000'}, {'open': 3.76, 'high': 3.82, 'low': 3.4, 'close': 3.48, 'volume': 51576759.0, 'adj_high': 3.82, 'adj_low': 3.4, 'adj_close': 3.48, 'adj_open': 3.76, 'adj_volume': 51576759.0, 'symbol': 'NIO', 'exchange': 'XNYS', 'date': '2020-05-20T00:00:00+0000'}, {'open': 3.62, 'high': 3.75, 'low': 3.59, 'close': 3.69, 'volume': 21654002.0, 'adj_high': 3.75, 'adj_low': 3.59, 'adj_close': 3.69, 'adj_open': 3.62, 'adj_volume': 21654002.0, 'symbol': 'NIO', 'exchange': 'XNYS', 'date': '2020-05-19T00:00:00+0000'}, {'open': 3.5, 'high': 3.69, 'low': 3.5, 'close': 3.61, 'volume': 27771320.0, 'adj_high': 3.69, 'adj_low': 3.5, 'adj_close': 3.61, 'adj_open': 3.5, 'adj_volume': 27771320.0, 'symbol': 'NIO', 'exchange': 'XNYS', 'date': '2020-05-18T00:00:00+0000'}, {'open': 3.37, 'high': 3.45, 'low': 3.36, 'close': 3.37, 'volume': 13618530.0, 'adj_high': 3.45, 'adj_low': 3.36, 'adj_close': 3.37, 'adj_open': 3.37, 'adj_volume': 13618530.0, 'symbol': 'NIO', 'exchange': 'XNYS', 'date': '2020-05-15T00:00:00+0000'}]}\n",
      "None\n"
     ]
    }
   ],
   "source": [
    "print(eod_price())"
   ]
  },
  {
   "cell_type": "code",
   "execution_count": 87,
   "metadata": {},
   "outputs": [
    {
     "name": "stdout",
     "output_type": "stream",
     "text": [
      "Date 2020-09-02T00:00:00+0000 AAPL Open price 137.59 Close price 131.4\n",
      "Date 2020-09-01T00:00:00+0000 AAPL Open price 132.76 Close price 134.18\n"
     ]
    }
   ],
   "source": [
    "params = {\n",
    "'access_key':'85fc05650639080c5b30be648abfcd27',\n",
    "'symbols':'AAPL',\n",
    "'date_from':'2020-09-01',\n",
    "'date_to':'2020-09-02'\n",
    "\n",
    "}\n",
    "\n",
    "api_result = requests.get('http://api.marketstack.com/v1/eod', params)\n",
    "\n",
    "api_response = api_result.json()\n",
    "\n",
    "for stock_data in api_response['data']:\n",
    "    print(\n",
    "    'Date '+ stock_data['date'],\n",
    "    stock_data['symbol'],\n",
    "    'Open price '+str(stock_data['open']),\n",
    "    'Close price '+ str(stock_data['close'])\n",
    "      )  \n",
    "    \n",
    "\n",
    "# for stock_data in api_response['data']:\n",
    "#     stock_data['date']\n",
    "#     stock_data['symbol']\n",
    "#     stock_data['open']\n",
    "#     stock_data['close']"
   ]
  },
  {
   "cell_type": "code",
   "execution_count": 74,
   "metadata": {},
   "outputs": [
    {
     "name": "stdout",
     "output_type": "stream",
     "text": [
      "{'pagination': {'limit': 100, 'offset': 0, 'count': 2, 'total': 2}, 'data': [{'open': 137.59, 'high': 137.98, 'low': 127.0, 'close': 131.4, 'volume': 198233370.0, 'adj_high': 137.98, 'adj_low': 127.0, 'adj_close': 131.4, 'adj_open': 137.59, 'adj_volume': 198233370.0, 'symbol': 'AAPL', 'exchange': 'XNAS', 'date': '2020-09-02T00:00:00+0000'}, {'open': 132.76, 'high': 134.8, 'low': 130.53, 'close': 134.18, 'volume': 150698946.0, 'adj_high': 134.8, 'adj_low': 130.53, 'adj_close': 134.18, 'adj_open': 132.76, 'adj_volume': 150698946.0, 'symbol': 'AAPL', 'exchange': 'XNAS', 'date': '2020-09-01T00:00:00+0000'}]}\n"
     ]
    }
   ],
   "source": [
    "print(api_response)"
   ]
  },
  {
   "cell_type": "code",
   "execution_count": 75,
   "metadata": {},
   "outputs": [
    {
     "ename": "SyntaxError",
     "evalue": "invalid syntax (<ipython-input-75-54a7b74413ce>, line 4)",
     "output_type": "error",
     "traceback": [
      "\u001b[0;36m  File \u001b[0;32m\"<ipython-input-75-54a7b74413ce>\"\u001b[0;36m, line \u001b[0;32m4\u001b[0m\n\u001b[0;31m    stock_data['symbol']\u001b[0m\n\u001b[0m             ^\u001b[0m\n\u001b[0;31mSyntaxError\u001b[0m\u001b[0;31m:\u001b[0m invalid syntax\n"
     ]
    }
   ],
   "source": [
    "for stock_data in api_response['data']:\n",
    "      print(\n",
    "    stock_data['date']\n",
    "    stock_data['symbol']\n",
    "    stock_data['open']\n",
    "    stock_data['close']\n",
    "      )  \n",
    "    "
   ]
  },
  {
   "cell_type": "code",
   "execution_count": 4,
   "metadata": {},
   "outputs": [],
   "source": [
    "def check_ticker(symbol):\n",
    "    if(symbol):\n",
    "        params = {'access_key':'85fc05650639080c5b30be648abfcd27','symbols':symbol,'date_from':'2020-10-01','date_to':'2020-09-02'}\n",
    "    api_result = requests.get('http://api.marketstack.com/v1/eod', params)\n",
    "    api_response = api_result.json()\n",
    "#     api_response\n",
    "    for stock_data in api_response['data']:\n",
    "        print(\n",
    "        'Date '+ stock_data['date'],\n",
    "        stock_data['symbol'],\n",
    "        'Open price '+str(stock_data['open']),\n",
    "        'Close price '+ str(stock_data['close'])\n",
    "              )  \n",
    "    \n"
   ]
  },
  {
   "cell_type": "code",
   "execution_count": 5,
   "metadata": {},
   "outputs": [
    {
     "name": "stdout",
     "output_type": "stream",
     "text": [
      "Date 2020-09-02T00:00:00+0000 NIO Open price 20.92 Close price 19.9\n",
      "Date 2020-09-01T00:00:00+0000 NIO Open price 19.45 Close price 20.12\n"
     ]
    }
   ],
   "source": [
    "check_ticker('nio')"
   ]
  },
  {
   "cell_type": "code",
   "execution_count": null,
   "metadata": {},
   "outputs": [],
   "source": []
  }
 ],
 "metadata": {
  "kernelspec": {
   "display_name": "Python 3",
   "language": "python",
   "name": "python3"
  },
  "language_info": {
   "codemirror_mode": {
    "name": "ipython",
    "version": 3
   },
   "file_extension": ".py",
   "mimetype": "text/x-python",
   "name": "python",
   "nbconvert_exporter": "python",
   "pygments_lexer": "ipython3",
   "version": "3.7.4"
  }
 },
 "nbformat": 4,
 "nbformat_minor": 2
}
